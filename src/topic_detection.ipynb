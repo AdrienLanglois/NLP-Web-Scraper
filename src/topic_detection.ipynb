{
 "cells": [
  {
   "cell_type": "code",
   "execution_count": 102,
   "metadata": {},
   "outputs": [],
   "source": [
    "import pandas as pd\n",
    "import numpy as np\n"
   ]
  },
  {
   "attachments": {},
   "cell_type": "markdown",
   "metadata": {},
   "source": [
    "load the data"
   ]
  },
  {
   "cell_type": "code",
   "execution_count": 103,
   "metadata": {},
   "outputs": [
    {
     "name": "stdout",
     "output_type": "stream",
     "text": [
      "   ArticleId                                               Text  Category\n",
      "0       1018  qpr keeper day heads for preston queens park r...     sport\n",
      "1       1319  software watching while you work software that...      tech\n",
      "2       1138  d arcy injury adds to ireland woe gordon d arc...     sport\n",
      "3        459  india s reliance family feud heats up the ongo...  business\n",
      "4       1020  boro suffer morrison injury blow middlesbrough...     sport\n"
     ]
    }
   ],
   "source": [
    "train_data = pd.read_csv('../data/BBC News Train.csv')\n",
    "test_data = pd.read_csv('../data/BBC News Test.csv')\n",
    "datasets = [train_data, test_data]\n",
    "print(test_data.head())"
   ]
  },
  {
   "cell_type": "code",
   "execution_count": 104,
   "metadata": {},
   "outputs": [
    {
     "name": "stdout",
     "output_type": "stream",
     "text": [
      "ArticleId  Text   Category\n",
      "False      False  False       1490\n",
      "Name: count, dtype: int64\n",
      "ArticleId  Text   Category\n",
      "False      False  False       735\n",
      "Name: count, dtype: int64\n"
     ]
    }
   ],
   "source": [
    "# check for missing values : \n",
    "for df in datasets:\n",
    "    print(df.isna().value_counts())"
   ]
  },
  {
   "attachments": {},
   "cell_type": "markdown",
   "metadata": {},
   "source": [
    "preprocessing"
   ]
  },
  {
   "cell_type": "code",
   "execution_count": 105,
   "metadata": {},
   "outputs": [],
   "source": [
    "for df in datasets:\n",
    "    df.set_index('ArticleId', inplace=True)\n",
    "    \n",
    "    # topic encoding:\n",
    "    # Tech, Sport, Business, Entertainment or Politics\n",
    "    topic_encoder = {'tech':1, 'sport':2, 'business':3, 'entertainment':4, 'politics':5}\n",
    "    df['Category'] = df['Category'].map(topic_encoder).astype(int)"
   ]
  },
  {
   "attachments": {},
   "cell_type": "markdown",
   "metadata": {},
   "source": [
    "X = TFI-DF vectorization of the article. \n",
    "y = 'Category' column"
   ]
  },
  {
   "cell_type": "code",
   "execution_count": 106,
   "metadata": {},
   "outputs": [],
   "source": [
    "from sklearn.feature_extraction.text import TfidfVectorizer\n",
    "\n",
    "train_data = datasets[0]\n",
    "test_data = datasets[1]\n",
    "\n",
    "tfidf_vectorizer = TfidfVectorizer(max_features=1000)\n",
    "\n",
    "X = tfidf_vectorizer.fit_transform(train_data['Text'])\n",
    "y = train_data['Category']\n",
    "\n",
    "X_test = tfidf_vectorizer.transform(test_data['Text'])\n",
    "y_test = test_data['Category']"
   ]
  },
  {
   "cell_type": "code",
   "execution_count": 107,
   "metadata": {},
   "outputs": [
    {
     "name": "stdout",
     "output_type": "stream",
     "text": [
      "[2 1 2 3 2 2 5 5 4 3]\n"
     ]
    }
   ],
   "source": [
    "from sklearn.svm import SVC\n",
    "\n",
    "model = SVC(kernel='linear')\n",
    "model.fit(X,y)\n",
    "\n",
    "test_pred = model.predict(X_test)\n",
    "\n",
    "print(test_pred[:10])"
   ]
  },
  {
   "attachments": {},
   "cell_type": "markdown",
   "metadata": {},
   "source": [
    "Evaluation"
   ]
  },
  {
   "cell_type": "code",
   "execution_count": 108,
   "metadata": {},
   "outputs": [
    {
     "name": "stdout",
     "output_type": "stream",
     "text": [
      "accuracy on the test set : 97.41%\n"
     ]
    }
   ],
   "source": [
    "from sklearn.metrics import accuracy_score\n",
    "\n",
    "score = accuracy_score(y_test, test_pred)\n",
    "print(f'accuracy on the test set : {100 * score:.2f}%')"
   ]
  },
  {
   "attachments": {},
   "cell_type": "markdown",
   "metadata": {},
   "source": [
    "Save the model using Pickle"
   ]
  },
  {
   "cell_type": "code",
   "execution_count": 109,
   "metadata": {},
   "outputs": [],
   "source": [
    "import pickle\n",
    "\n",
    "pickle.dump(model, open('../results/topic_classifier.pkl', 'wb'))\n",
    "\n",
    "#how to load and use the model :\n",
    "#pickled_model = pickle.load(open('model.pkl', 'rb'))\n",
    "#pickled_model.predict(X)\n"
   ]
  }
 ],
 "metadata": {
  "kernelspec": {
   "display_name": "Python 3",
   "language": "python",
   "name": "python3"
  },
  "language_info": {
   "codemirror_mode": {
    "name": "ipython",
    "version": 3
   },
   "file_extension": ".py",
   "mimetype": "text/x-python",
   "name": "python",
   "nbconvert_exporter": "python",
   "pygments_lexer": "ipython3",
   "version": "3.10.12"
  },
  "orig_nbformat": 4
 },
 "nbformat": 4,
 "nbformat_minor": 2
}
